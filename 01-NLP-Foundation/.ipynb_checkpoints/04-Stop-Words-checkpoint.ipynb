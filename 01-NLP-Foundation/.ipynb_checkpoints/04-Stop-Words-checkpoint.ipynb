{
 "cells": [
  {
   "cell_type": "markdown",
   "metadata": {},
   "source": [
    "# Stop Words\n",
    "Words like \"a\" and \"the\" appear so frequently that they don't require tagging as thoroughly as nouns, verbs and modifiers. We call these *stop words*, and they can be filtered from the text to be processed. spaCy holds a built-in list of some 326 English stop words."
   ]
  },
  {
   "cell_type": "code",
   "execution_count": 1,
   "metadata": {},
   "outputs": [],
   "source": [
    "# Perform standard imports:\n",
    "import spacy\n",
    "nlp = spacy.load('en_core_web_sm')"
   ]
  },
  {
   "cell_type": "code",
   "execution_count": 2,
   "metadata": {},
   "outputs": [
    {
     "name": "stdout",
     "output_type": "stream",
     "text": [
      "{'hundred', 'into', 'thereupon', 'became', 'keep', 'whose', 'amongst', 'none', 'eleven', 'they', '‘m', 'back', 'eight', 'please', 'were', 'former', '’m', 'with', 'n’t', 'ours', 'done', 'behind', 'often', 'before', 'some', 'yet', 'now', 'for', \"'s\", 'also', 'upon', 'still', 'thru', 'once', 'whom', 'sometimes', 'either', 'together', 'by', 'being', 'throughout', 'next', 'hers', 'used', 'well', 'go', 'is', 'this', 'there', 'first', 'mostly', 'among', 'while', 'same', 'thus', 'do', 'few', 'see', 'itself', 'besides', 'whereby', 'than', 'twenty', \"'d\", 'almost', 'sixty', 'too', 'which', 'after', \"n't\", 'all', 'formerly', '’ve', 'further', \"'m\", 'again', 'nobody', 'beyond', 'serious', 'four', 'thence', 'meanwhile', 'bottom', 'already', 'whereafter', '‘ll', 'top', 'become', 'else', 'around', 'hence', 'himself', 'move', 'must', 'that', 'whoever', 'onto', 'six', 'without', 'so', 'above', 'nothing', 'may', 'many', 'thereby', 'yours', 'when', 're', 'an', 'nine', 'ca', 'everyone', 'what', 'in', 'whence', 'therein', 'whatever', 'someone', 'using', 'ourselves', 'or', 'least', 'who', 'yourself', 'whole', 'out', 'myself', 'am', 'but', 'several', 'against', 'hereafter', 'five', 'always', 'my', 'indeed', 'along', 'how', 'everything', 'put', 'at', 'name', '’d', 'each', 'per', 'every', 'something', 'say', 'can', 'even', 'namely', '‘re', 'third', 'should', 'n‘t', 'we', 'only', 'anywhere', 'through', 'seem', 'amount', 'on', 'give', 'i', 'whereas', 'toward', 'rather', 'nowhere', 'another', 'others', 'front', 'hereby', '’s', 'will', 'its', 'under', 'anything', 'last', 'less', 'herein', 'seems', 'quite', 'are', 'his', 'might', 'anyhow', '’re', 'get', 'me', 'to', 'these', 'have', 'therefore', 'if', 'one', 'ten', 'empty', 'perhaps', 'could', 'it', 'unless', \"'re\", 'mine', 'be', 'never', 'other', 'somewhere', 'about', 'except', 'down', 'beside', 'him', 'no', 'becomes', 'noone', \"'ll\", 'made', 'wherever', 'towards', 'show', 'as', 'seemed', 'the', 'thereafter', 'whereupon', 'why', 'ever', 'not', 'any', 'between', 'doing', 'whither', 'nevertheless', 'your', 'via', 'had', 'own', 'their', 'of', 'however', 'anyway', 'somehow', 'full', 'enough', 'from', 'very', 'neither', 'seeming', 'he', 'during', 'moreover', 'those', 'due', 'alone', 'both', 'side', 'sometime', 'part', 'you', 'two', 'been', 'make', 'otherwise', 'much', 'our', 'off', 'hereupon', 'elsewhere', 'three', 'below', 'does', 'most', 'until', 'here', 'afterwards', 'everywhere', '’ll', 'herself', 'anyone', 'whenever', 'wherein', '‘d', '‘ve', 'various', 'really', 'cannot', 'nor', 'more', 'us', 'since', 'she', 'twelve', 'did', 'regarding', 'take', 'whether', 'within', 'becoming', 'themselves', 'up', '‘s', 'a', 'over', 'fifteen', 'such', 'her', 'forty', 'was', 'latter', 'then', 'beforehand', 'across', 'would', 'call', 'just', \"'ve\", 'yourselves', 'although', 'and', 'because', 'though', 'where', 'has', 'fifty', 'latterly', 'them'}\n"
     ]
    }
   ],
   "source": [
    "# Print the set of spaCy's default stop words (remember that sets are unordered):\n",
    "print(nlp.Defaults.stop_words)"
   ]
  },
  {
   "cell_type": "code",
   "execution_count": 3,
   "metadata": {},
   "outputs": [
    {
     "data": {
      "text/plain": [
       "326"
      ]
     },
     "execution_count": 3,
     "metadata": {},
     "output_type": "execute_result"
    }
   ],
   "source": [
    "len(nlp.Defaults.stop_words)"
   ]
  },
  {
   "cell_type": "markdown",
   "metadata": {},
   "source": [
    "## To see if a word is a stop word"
   ]
  },
  {
   "cell_type": "code",
   "execution_count": 4,
   "metadata": {},
   "outputs": [
    {
     "data": {
      "text/plain": [
       "True"
      ]
     },
     "execution_count": 4,
     "metadata": {},
     "output_type": "execute_result"
    }
   ],
   "source": [
    "nlp.vocab['myself'].is_stop"
   ]
  },
  {
   "cell_type": "code",
   "execution_count": 6,
   "metadata": {},
   "outputs": [
    {
     "data": {
      "text/plain": [
       "False"
      ]
     },
     "execution_count": 6,
     "metadata": {},
     "output_type": "execute_result"
    }
   ],
   "source": [
    "nlp.vocab['mystery'].is_stop"
   ]
  },
  {
   "cell_type": "markdown",
   "metadata": {},
   "source": [
    "## To add a stop word\n",
    "There may be times when you wish to add a stop word to the default set. Perhaps you decide that `'btw'` (common shorthand for \"by the way\") should be considered a stop word."
   ]
  },
  {
   "cell_type": "code",
   "execution_count": 8,
   "metadata": {},
   "outputs": [],
   "source": [
    "# Add the word to the set of stop words. Use lowercase!\n",
    "nlp.Defaults.stop_words.add('btw')\n",
    "\n",
    "# Set the stop_word tag on the lexeme\n",
    "nlp.vocab['btw'].is_stop = True"
   ]
  },
  {
   "cell_type": "code",
   "execution_count": 9,
   "metadata": {},
   "outputs": [
    {
     "data": {
      "text/plain": [
       "327"
      ]
     },
     "execution_count": 9,
     "metadata": {},
     "output_type": "execute_result"
    }
   ],
   "source": [
    "len(nlp.Defaults.stop_words)"
   ]
  },
  {
   "cell_type": "code",
   "execution_count": 10,
   "metadata": {},
   "outputs": [
    {
     "data": {
      "text/plain": [
       "True"
      ]
     },
     "execution_count": 10,
     "metadata": {},
     "output_type": "execute_result"
    }
   ],
   "source": [
    "nlp.vocab['btw'].is_stop"
   ]
  },
  {
   "cell_type": "markdown",
   "metadata": {},
   "source": [
    "<font color=green>When adding stop words, always use lowercase. Lexemes are converted to lowercase before being added to **vocab**.</font>"
   ]
  },
  {
   "cell_type": "markdown",
   "metadata": {},
   "source": [
    "## To remove a stop word\n",
    "Alternatively, you may decide that `'beyond'` should not be considered a stop word."
   ]
  },
  {
   "cell_type": "code",
   "execution_count": 11,
   "metadata": {},
   "outputs": [],
   "source": [
    "# Remove the word from the set of stop words\n",
    "nlp.Defaults.stop_words.remove('beyond')\n",
    "\n",
    "# Remove the stop_word tag from the lexeme\n",
    "nlp.vocab['beyond'].is_stop = False"
   ]
  },
  {
   "cell_type": "code",
   "execution_count": 12,
   "metadata": {},
   "outputs": [
    {
     "data": {
      "text/plain": [
       "326"
      ]
     },
     "execution_count": 12,
     "metadata": {},
     "output_type": "execute_result"
    }
   ],
   "source": [
    "len(nlp.Defaults.stop_words)"
   ]
  },
  {
   "cell_type": "code",
   "execution_count": 13,
   "metadata": {},
   "outputs": [
    {
     "data": {
      "text/plain": [
       "False"
      ]
     },
     "execution_count": 13,
     "metadata": {},
     "output_type": "execute_result"
    }
   ],
   "source": [
    "nlp.vocab['beyond'].is_stop"
   ]
  },
  {
   "cell_type": "markdown",
   "metadata": {},
   "source": [
    "Great! Now you should be able to access spaCy's default set of stop words, and add or remove stop words as needed.\n",
    "## Next up: Vocabulary and Matching"
   ]
  }
 ],
 "metadata": {
  "kernelspec": {
   "display_name": "Python 3",
   "language": "python",
   "name": "python3"
  },
  "language_info": {
   "codemirror_mode": {
    "name": "ipython",
    "version": 3
   },
   "file_extension": ".py",
   "mimetype": "text/x-python",
   "name": "python",
   "nbconvert_exporter": "python",
   "pygments_lexer": "ipython3",
   "version": "3.7.4"
  }
 },
 "nbformat": 4,
 "nbformat_minor": 2
}
