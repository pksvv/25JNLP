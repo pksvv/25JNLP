{
 "cells": [
  {
   "cell_type": "markdown",
   "metadata": {},
   "source": [
    "# Stop Words\n",
    "Words like \"a\" and \"the\" appear so frequently that they don't require tagging as thoroughly as nouns, verbs and modifiers. We call these *stop words*, and they can be filtered from the text to be processed. spaCy holds a built-in list of some 326 English stop words."
   ]
  },
  {
   "cell_type": "code",
   "execution_count": 1,
   "metadata": {},
   "outputs": [],
   "source": [
    "# Perform standard imports:\n",
    "import spacy\n",
    "nlp = spacy.load('en_core_web_sm')"
   ]
  },
  {
   "cell_type": "code",
   "execution_count": 2,
   "metadata": {},
   "outputs": [
    {
     "name": "stdout",
     "output_type": "stream",
     "text": [
      "{'therefore', 'now', 'give', 'yourselves', 'often', 'yourself', '‘d', 'so', 'except', 'either', 'whereas', 'by', 'there', 'all', 'throughout', 'be', 'are', 'most', '‘ve', '‘re', 'why', 'themselves', 'more', 'front', 'amount', 'another', 'first', 'under', 'their', 'each', 'therein', 'many', 'me', 'something', 'twelve', 'serious', 'of', 'formerly', 'noone', 'few', 'beforehand', \"'ll\", 'down', 'make', 'same', 'then', '’d', 'still', 'was', 'were', 'am', 'every', 'should', 'perhaps', 'three', 'until', 'becoming', 'afterwards', 'my', 'due', 'becomes', 'whom', 'thus', 'any', 'further', 'nowhere', 'third', 'anyway', 'together', 'hence', 'those', 'eight', 'too', 'to', 'six', 'after', 'others', 'myself', 'two', 'he', 'into', 'if', 'somehow', 'become', '’re', 'made', 'the', 'anyhow', 'neither', 'moreover', 'such', 'at', 'take', 'get', 'whose', 'is', 'she', 'not', 'we', 'none', 'upon', 'anyone', 'whenever', 'however', 'about', 'but', 'a', 'otherwise', 'they', 'namely', 'several', 'eleven', 'thereafter', 'n’t', 'whereupon', 'five', 'whereby', 'whence', 'twenty', 'nor', 'some', 'whoever', 'both', 'just', 'indeed', 're', 'former', 'anywhere', 'ours', 'it', 'against', 'already', 'seem', 'do', 'other', 'ten', 'her', 'ever', 'amongst', 'really', 'i', 'herein', 'one', 'well', 'bottom', 'while', 'please', 'had', 'various', 'toward', 'top', 'yours', 'on', 'without', 'you', 'could', 'even', 'whole', 'quite', '’ll', 'its', 'up', 'somewhere', 'although', 'call', 'have', 'towards', 'else', 'thereby', 'hereupon', 'per', 'might', 'for', 'unless', 'everyone', '’m', \"'m\", 'can', 'rather', 'least', 'hereafter', 'out', 'besides', '‘ll', 'being', 'once', 'that', 'thence', 'using', 'forty', 'beyond', 'though', 'been', 'seemed', 'in', 'fifteen', 'sometimes', 'his', 'has', 'whether', \"'ve\", 'fifty', 'thereupon', 'again', 'back', 'full', 'next', 'also', '‘s', 'off', 'herself', 'part', 'thru', 'no', 'them', 'only', 'this', 'move', 'before', '’ve', 'around', 'meanwhile', 'him', 'behind', 'nothing', 'how', 'through', 'n‘t', 'will', 'see', 'whatever', 'or', 'where', 'wherein', 'below', 'ca', 'someone', 'cannot', 'name', 'done', 'ourselves', 'never', 'became', 'than', 'because', 'hundred', 'via', 'does', 'seems', \"'re\", 'very', 'put', 'when', 'mostly', 'who', 'these', '’s', 'our', 'nevertheless', 'hers', 'wherever', 'us', 'say', 'keep', \"n't\", 'what', 'latter', 'hereby', 'elsewhere', 'almost', 'last', 'onto', 'which', 'seeming', 'nine', 'would', 'less', 'over', 'whither', 'with', 'during', 'empty', 'always', 'as', 'show', 'within', 'enough', 'everything', 'above', 'mine', 'doing', 'here', 'from', 'among', 'everywhere', 'did', 'own', 'used', 'side', 'sometime', 'along', 'since', 'yet', 'go', 'itself', 'anything', 'regarding', 'between', 'four', 'nobody', 'latterly', \"'s\", 'himself', 'alone', '‘m', 'your', 'whereafter', 'may', 'an', 'and', 'beside', 'much', \"'d\", 'sixty', 'across', 'must'}\n"
     ]
    }
   ],
   "source": [
    "# Print the set of spaCy's default stop words (remember that sets are unordered):\n",
    "print(nlp.Defaults.stop_words)"
   ]
  },
  {
   "cell_type": "code",
   "execution_count": 3,
   "metadata": {},
   "outputs": [
    {
     "data": {
      "text/plain": [
       "326"
      ]
     },
     "execution_count": 3,
     "metadata": {},
     "output_type": "execute_result"
    }
   ],
   "source": [
    "len(nlp.Defaults.stop_words)"
   ]
  },
  {
   "cell_type": "markdown",
   "metadata": {},
   "source": [
    "## To see if a word is a stop word"
   ]
  },
  {
   "cell_type": "code",
   "execution_count": 4,
   "metadata": {},
   "outputs": [
    {
     "data": {
      "text/plain": [
       "True"
      ]
     },
     "execution_count": 4,
     "metadata": {},
     "output_type": "execute_result"
    }
   ],
   "source": [
    "nlp.vocab['myself'].is_stop"
   ]
  },
  {
   "cell_type": "code",
   "execution_count": 6,
   "metadata": {},
   "outputs": [
    {
     "data": {
      "text/plain": [
       "False"
      ]
     },
     "execution_count": 6,
     "metadata": {},
     "output_type": "execute_result"
    }
   ],
   "source": [
    "nlp.vocab['mystery'].is_stop"
   ]
  },
  {
   "cell_type": "markdown",
   "metadata": {},
   "source": [
    "## To add a stop word\n",
    "There may be times when you wish to add a stop word to the default set. Perhaps you decide that `'btw'` (common shorthand for \"by the way\") should be considered a stop word."
   ]
  },
  {
   "cell_type": "code",
   "execution_count": 8,
   "metadata": {},
   "outputs": [],
   "source": [
    "# Add the word to the set of stop words. Use lowercase!\n",
    "nlp.Defaults.stop_words.add('btw')\n",
    "\n",
    "# Set the stop_word tag on the lexeme\n",
    "nlp.vocab['btw'].is_stop = True"
   ]
  },
  {
   "cell_type": "code",
   "execution_count": 9,
   "metadata": {},
   "outputs": [
    {
     "data": {
      "text/plain": [
       "327"
      ]
     },
     "execution_count": 9,
     "metadata": {},
     "output_type": "execute_result"
    }
   ],
   "source": [
    "len(nlp.Defaults.stop_words)"
   ]
  },
  {
   "cell_type": "code",
   "execution_count": 10,
   "metadata": {},
   "outputs": [
    {
     "data": {
      "text/plain": [
       "True"
      ]
     },
     "execution_count": 10,
     "metadata": {},
     "output_type": "execute_result"
    }
   ],
   "source": [
    "nlp.vocab['btw'].is_stop"
   ]
  },
  {
   "cell_type": "markdown",
   "metadata": {},
   "source": [
    "<font color=green>When adding stop words, always use lowercase. Lexemes are converted to lowercase before being added to **vocab**.</font>"
   ]
  },
  {
   "cell_type": "markdown",
   "metadata": {},
   "source": [
    "## To remove a stop word\n",
    "Alternatively, you may decide that `'beyond'` should not be considered a stop word."
   ]
  },
  {
   "cell_type": "code",
   "execution_count": 11,
   "metadata": {},
   "outputs": [],
   "source": [
    "# Remove the word from the set of stop words\n",
    "nlp.Defaults.stop_words.remove('beyond')\n",
    "\n",
    "# Remove the stop_word tag from the lexeme\n",
    "nlp.vocab['beyond'].is_stop = False"
   ]
  },
  {
   "cell_type": "code",
   "execution_count": 12,
   "metadata": {},
   "outputs": [
    {
     "data": {
      "text/plain": [
       "326"
      ]
     },
     "execution_count": 12,
     "metadata": {},
     "output_type": "execute_result"
    }
   ],
   "source": [
    "len(nlp.Defaults.stop_words)"
   ]
  },
  {
   "cell_type": "code",
   "execution_count": 13,
   "metadata": {},
   "outputs": [
    {
     "data": {
      "text/plain": [
       "False"
      ]
     },
     "execution_count": 13,
     "metadata": {},
     "output_type": "execute_result"
    }
   ],
   "source": [
    "nlp.vocab['beyond'].is_stop"
   ]
  }
 ],
 "metadata": {
  "kernelspec": {
   "display_name": "Python 3",
   "language": "python",
   "name": "python3"
  },
  "language_info": {
   "codemirror_mode": {
    "name": "ipython",
    "version": 3
   },
   "file_extension": ".py",
   "mimetype": "text/x-python",
   "name": "python",
   "nbconvert_exporter": "python",
   "pygments_lexer": "ipython3",
   "version": "3.7.4"
  }
 },
 "nbformat": 4,
 "nbformat_minor": 2
}
