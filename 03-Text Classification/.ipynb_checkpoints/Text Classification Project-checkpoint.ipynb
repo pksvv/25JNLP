{
 "cells": [
  {
   "cell_type": "markdown",
   "metadata": {},
   "source": [
    "## Problem Statement - Sentiment Analysis of movie review dataset\n",
    "\n",
    "Dataset location : http://www.cs.cornell.edu/people/pabo/movie-review-data/\n",
    "\n"
   ]
  },
  {
   "cell_type": "markdown",
   "metadata": {},
   "source": [
    "## Importing Libraries"
   ]
  },
  {
   "cell_type": "code",
   "execution_count": 1,
   "metadata": {},
   "outputs": [],
   "source": [
    "import numpy as np\n",
    "import pandas as pd"
   ]
  },
  {
   "cell_type": "markdown",
   "metadata": {},
   "source": [
    "## Import Dataset"
   ]
  },
  {
   "cell_type": "code",
   "execution_count": 2,
   "metadata": {},
   "outputs": [
    {
     "data": {
      "text/html": [
       "<div>\n",
       "<style scoped>\n",
       "    .dataframe tbody tr th:only-of-type {\n",
       "        vertical-align: middle;\n",
       "    }\n",
       "\n",
       "    .dataframe tbody tr th {\n",
       "        vertical-align: top;\n",
       "    }\n",
       "\n",
       "    .dataframe thead th {\n",
       "        text-align: right;\n",
       "    }\n",
       "</style>\n",
       "<table border=\"1\" class=\"dataframe\">\n",
       "  <thead>\n",
       "    <tr style=\"text-align: right;\">\n",
       "      <th></th>\n",
       "      <th>label</th>\n",
       "      <th>review</th>\n",
       "    </tr>\n",
       "  </thead>\n",
       "  <tbody>\n",
       "    <tr>\n",
       "      <td>0</td>\n",
       "      <td>neg</td>\n",
       "      <td>how do films like mouse hunt get into theatres...</td>\n",
       "    </tr>\n",
       "    <tr>\n",
       "      <td>1</td>\n",
       "      <td>neg</td>\n",
       "      <td>some talented actresses are blessed with a dem...</td>\n",
       "    </tr>\n",
       "    <tr>\n",
       "      <td>2</td>\n",
       "      <td>pos</td>\n",
       "      <td>this has been an extraordinary year for austra...</td>\n",
       "    </tr>\n",
       "    <tr>\n",
       "      <td>3</td>\n",
       "      <td>pos</td>\n",
       "      <td>according to hollywood movies made in last few...</td>\n",
       "    </tr>\n",
       "    <tr>\n",
       "      <td>4</td>\n",
       "      <td>neg</td>\n",
       "      <td>my first press screening of 1998 and already i...</td>\n",
       "    </tr>\n",
       "  </tbody>\n",
       "</table>\n",
       "</div>"
      ],
      "text/plain": [
       "  label                                             review\n",
       "0   neg  how do films like mouse hunt get into theatres...\n",
       "1   neg  some talented actresses are blessed with a dem...\n",
       "2   pos  this has been an extraordinary year for austra...\n",
       "3   pos  according to hollywood movies made in last few...\n",
       "4   neg  my first press screening of 1998 and already i..."
      ]
     },
     "execution_count": 2,
     "metadata": {},
     "output_type": "execute_result"
    }
   ],
   "source": [
    "df = pd.read_csv('../datasets/TextFiles/moviereviews.tsv',sep='\\t')\n",
    "\n",
    "df.head()"
   ]
  },
  {
   "cell_type": "code",
   "execution_count": 3,
   "metadata": {},
   "outputs": [
    {
     "data": {
      "text/plain": [
       "2000"
      ]
     },
     "execution_count": 3,
     "metadata": {},
     "output_type": "execute_result"
    }
   ],
   "source": [
    "len(df)"
   ]
  },
  {
   "cell_type": "code",
   "execution_count": 4,
   "metadata": {},
   "outputs": [
    {
     "data": {
      "text/plain": [
       "'how do films like mouse hunt get into theatres ? \\r\\nisn\\'t there a law or something ? \\r\\nthis diabolical load of claptrap from steven speilberg\\'s dreamworks studio is hollywood family fare at its deadly worst . \\r\\nmouse hunt takes the bare threads of a plot and tries to prop it up with overacting and flat-out stupid slapstick that makes comedies like jingle all the way look decent by comparison . \\r\\nwriter adam rifkin and director gore verbinski are the names chiefly responsible for this swill . \\r\\nthe plot , for what its worth , concerns two brothers ( nathan lane and an appalling lee evens ) who inherit a poorly run string factory and a seemingly worthless house from their eccentric father . \\r\\ndeciding to check out the long-abandoned house , they soon learn that it\\'s worth a fortune and set about selling it in auction to the highest bidder . \\r\\nbut battling them at every turn is a very smart mouse , happy with his run-down little abode and wanting it to stay that way . \\r\\nthe story alternates between unfunny scenes of the brothers bickering over what to do with their inheritance and endless action sequences as the two take on their increasingly determined furry foe . \\r\\nwhatever promise the film starts with soon deteriorates into boring dialogue , terrible overacting , and increasingly uninspired slapstick that becomes all sound and fury , signifying nothing . \\r\\nthe script becomes so unspeakably bad that the best line poor lee evens can utter after another run in with the rodent is : \" i hate that mouse \" . \\r\\noh cringe ! \\r\\nthis is home alone all over again , and ten times worse . \\r\\none touching scene early on is worth mentioning . \\r\\nwe follow the mouse through a maze of walls and pipes until he arrives at his makeshift abode somewhere in a wall . \\r\\nhe jumps into a tiny bed , pulls up a makeshift sheet and snuggles up to sleep , seemingly happy and just wanting to be left alone . \\r\\nit\\'s a magical little moment in an otherwise soulless film . \\r\\na message to speilberg : if you want dreamworks to be associated with some kind of artistic credibility , then either give all concerned in mouse hunt a swift kick up the arse or hire yourself some decent writers and directors . \\r\\nthis kind of rubbish will just not do at all . \\r\\n'"
      ]
     },
     "execution_count": 4,
     "metadata": {},
     "output_type": "execute_result"
    }
   ],
   "source": [
    "df['review'][0]"
   ]
  },
  {
   "cell_type": "markdown",
   "metadata": {},
   "source": [
    "## Missing Values"
   ]
  },
  {
   "cell_type": "code",
   "execution_count": 5,
   "metadata": {},
   "outputs": [
    {
     "data": {
      "text/plain": [
       "label      0\n",
       "review    35\n",
       "dtype: int64"
      ]
     },
     "execution_count": 5,
     "metadata": {},
     "output_type": "execute_result"
    }
   ],
   "source": [
    "df.isnull().sum()"
   ]
  },
  {
   "cell_type": "markdown",
   "metadata": {},
   "source": [
    "## Dropping missing values"
   ]
  },
  {
   "cell_type": "code",
   "execution_count": 6,
   "metadata": {},
   "outputs": [],
   "source": [
    "df.dropna(inplace=True)"
   ]
  },
  {
   "cell_type": "code",
   "execution_count": 7,
   "metadata": {},
   "outputs": [
    {
     "data": {
      "text/plain": [
       "label     0\n",
       "review    0\n",
       "dtype: int64"
      ]
     },
     "execution_count": 7,
     "metadata": {},
     "output_type": "execute_result"
    }
   ],
   "source": [
    "df.isnull().sum()"
   ]
  },
  {
   "cell_type": "code",
   "execution_count": 8,
   "metadata": {},
   "outputs": [
    {
     "data": {
      "text/plain": [
       "1965"
      ]
     },
     "execution_count": 8,
     "metadata": {},
     "output_type": "execute_result"
    }
   ],
   "source": [
    "len(df)"
   ]
  },
  {
   "cell_type": "markdown",
   "metadata": {},
   "source": [
    "## Detecting empty strings and removing them"
   ]
  },
  {
   "cell_type": "code",
   "execution_count": 10,
   "metadata": {},
   "outputs": [
    {
     "name": "stdout",
     "output_type": "stream",
     "text": [
      "27 blanks: [57, 71, 147, 151, 283, 307, 313, 323, 343, 351, 427, 501, 633, 675, 815, 851, 977, 1079, 1299, 1455, 1493, 1525, 1531, 1763, 1851, 1905, 1993]\n"
     ]
    }
   ],
   "source": [
    "blanks = []\n",
    "\n",
    "for index, label, review in df.itertuples():\n",
    "    if type(review)==str:\n",
    "        if review.isspace():\n",
    "            blanks.append(index)\n",
    "            \n",
    "print(len(blanks),'blanks:',blanks)"
   ]
  },
  {
   "cell_type": "code",
   "execution_count": 12,
   "metadata": {},
   "outputs": [
    {
     "data": {
      "text/html": [
       "<div>\n",
       "<style scoped>\n",
       "    .dataframe tbody tr th:only-of-type {\n",
       "        vertical-align: middle;\n",
       "    }\n",
       "\n",
       "    .dataframe tbody tr th {\n",
       "        vertical-align: top;\n",
       "    }\n",
       "\n",
       "    .dataframe thead th {\n",
       "        text-align: right;\n",
       "    }\n",
       "</style>\n",
       "<table border=\"1\" class=\"dataframe\">\n",
       "  <thead>\n",
       "    <tr style=\"text-align: right;\">\n",
       "      <th></th>\n",
       "      <th>a</th>\n",
       "      <th>b</th>\n",
       "      <th>c</th>\n",
       "    </tr>\n",
       "  </thead>\n",
       "  <tbody>\n",
       "    <tr>\n",
       "      <td>0</td>\n",
       "      <td>1</td>\n",
       "      <td>5</td>\n",
       "      <td>9</td>\n",
       "    </tr>\n",
       "    <tr>\n",
       "      <td>1</td>\n",
       "      <td>2</td>\n",
       "      <td>6</td>\n",
       "      <td>10</td>\n",
       "    </tr>\n",
       "    <tr>\n",
       "      <td>2</td>\n",
       "      <td>3</td>\n",
       "      <td>7</td>\n",
       "      <td>11</td>\n",
       "    </tr>\n",
       "    <tr>\n",
       "      <td>3</td>\n",
       "      <td>4</td>\n",
       "      <td>8</td>\n",
       "      <td>12</td>\n",
       "    </tr>\n",
       "  </tbody>\n",
       "</table>\n",
       "</div>"
      ],
      "text/plain": [
       "   a  b   c\n",
       "0  1  5   9\n",
       "1  2  6  10\n",
       "2  3  7  11\n",
       "3  4  8  12"
      ]
     },
     "execution_count": 12,
     "metadata": {},
     "output_type": "execute_result"
    }
   ],
   "source": [
    "df2 = pd.DataFrame({'a':[1,2,3,4],'b':[5,6,7,8],'c':[9,10,11,12]})\n",
    "\n",
    "df2.head()"
   ]
  },
  {
   "cell_type": "code",
   "execution_count": 14,
   "metadata": {},
   "outputs": [
    {
     "name": "stdout",
     "output_type": "stream",
     "text": [
      "Pandas(Index=0, a=1, b=5, c=9)\n",
      "Pandas(Index=1, a=2, b=6, c=10)\n",
      "Pandas(Index=2, a=3, b=7, c=11)\n",
      "Pandas(Index=3, a=4, b=8, c=12)\n"
     ]
    }
   ],
   "source": [
    "\n",
    "for r in df2.itertuples():\n",
    "    print(r)"
   ]
  },
  {
   "cell_type": "code",
   "execution_count": 15,
   "metadata": {},
   "outputs": [
    {
     "name": "stdout",
     "output_type": "stream",
     "text": [
      "Pandas(Index=0, label='neg', review='how do films like mouse hunt get into theatres ? \\r\\nisn\\'t there a law or something ? \\r\\nthis diabolical load of claptrap from steven speilberg\\'s dreamworks studio is hollywood family fare at its deadly worst . \\r\\nmouse hunt takes the bare threads of a plot and tries to prop it up with overacting and flat-out stupid slapstick that makes comedies like jingle all the way look decent by comparison . \\r\\nwriter adam rifkin and director gore verbinski are the names chiefly responsible for this swill . \\r\\nthe plot , for what its worth , concerns two brothers ( nathan lane and an appalling lee evens ) who inherit a poorly run string factory and a seemingly worthless house from their eccentric father . \\r\\ndeciding to check out the long-abandoned house , they soon learn that it\\'s worth a fortune and set about selling it in auction to the highest bidder . \\r\\nbut battling them at every turn is a very smart mouse , happy with his run-down little abode and wanting it to stay that way . \\r\\nthe story alternates between unfunny scenes of the brothers bickering over what to do with their inheritance and endless action sequences as the two take on their increasingly determined furry foe . \\r\\nwhatever promise the film starts with soon deteriorates into boring dialogue , terrible overacting , and increasingly uninspired slapstick that becomes all sound and fury , signifying nothing . \\r\\nthe script becomes so unspeakably bad that the best line poor lee evens can utter after another run in with the rodent is : \" i hate that mouse \" . \\r\\noh cringe ! \\r\\nthis is home alone all over again , and ten times worse . \\r\\none touching scene early on is worth mentioning . \\r\\nwe follow the mouse through a maze of walls and pipes until he arrives at his makeshift abode somewhere in a wall . \\r\\nhe jumps into a tiny bed , pulls up a makeshift sheet and snuggles up to sleep , seemingly happy and just wanting to be left alone . \\r\\nit\\'s a magical little moment in an otherwise soulless film . \\r\\na message to speilberg : if you want dreamworks to be associated with some kind of artistic credibility , then either give all concerned in mouse hunt a swift kick up the arse or hire yourself some decent writers and directors . \\r\\nthis kind of rubbish will just not do at all . \\r\\n')\n",
      "Pandas(Index=1, label='neg', review='some talented actresses are blessed with a demonstrated wide acting range while others , almost as gifted , have more limited types of parts for which they are suitable . \\r\\nas was amply evident after basic instinct , sharon stone can play sensual roles with great abandon . \\r\\nrejecting her natural abilities , she has spent the rest of her entire career trying with little success to play against type . \\r\\ngloria is her latest disaster . \\r\\nbabe ruth didn\\'t quit baseball after one season to play football in a quixotic quest to prove his athletic dexterity , and neither should stone reject what she does best . \\r\\njaneane garofalo , for example , is no less wonderful an actress because she could have never pulled off stone\\'s part in basic instinct ; neither is stone any less talented because she couldn\\'t do garofalo\\'s comedic roles . \\r\\ngloria , directed by respected director sidney lumet and adapted by steve antin from the 1980 screenplay by john cassavetes , was not screened in advance for critics , almost always a sign that the studio isn\\'t behind the picture . \\r\\nafter seeing it in a nearly empty audience after it opened , it is clear why they held it from the press . \\r\\nit is a film more to be endured than enjoyed . \\r\\nas the story opens , an angry gloria ( stone ) is being released from prison after 3 years confinement . \\r\\nshe\\'s got a bad attitude and a big mouth . \\r\\nshe also has a bad case of wavering and overblown new york accents , a disease suffered by much of the rest of the cast . \\r\\nan annoying child actor named jean-luke figueroa plays a soon-to-be orphan named nicky . \\r\\njust before his whole family is gunned down by hoods working for gloria\\'s ex-boyfriend kevin ( jeremy northam ) , nicky\\'s dad gives him a banana yellow floppy disk with secrets about kevin\\'s operation and offers him a piece of fatherly advice . \\r\\n \" be a man , \" his father lectures him sternly . \\r\\n \" don\\'t trust nobody . \\r\\nnot no broads . \\r\\nnobody . \" \\r\\nmost of the film\\'s leaden dialog is delivered with the emotive power of the automated time and temperature announcements . \\r\\nadd in the movie\\'s almost non-existent background noise and the excruciatingly slow pacing , and you can hear the sounds of the lines falling to the ground like stones . \\r\\nlumet places his actors in the frames like fruit in a still life painting . \\r\\nthey stand awkwardly mouthing the stiff sentences that pass for discourse . \\r\\n ( \" say you\\'re my baby , \" kevin coos demandingly . \\r\\n \" i\\'m not gonna , \" gloria pouts back . ) \\r\\nthe movie has a plethora of logical flaws and implausibilites . \\r\\nthe kid rarely seems the least bit worried or scared , no matter how many people are after him with guns , trying to kill him . \\r\\nand in one key scene , the yellow floppy he holds is assumed to be the right disk without checking it and is further assumed never to have been copied . \\r\\ngloria , who keeps saying how she hates kids , takes nicky under her wing and protects him from kevin and the bad guys . \\r\\nthink her maternal instincts will show up before the movie finally and predictably ends ? \\r\\nif you don\\'t know the answer , you may be just the right viewer for this film . \\r\\nyou have to say this for stone : she can keep a straight face . \\r\\nwhen explaining life to a 7-year-old kid , she says with utter seriousness , \" you got a lot of love making to make ; you got a lot of boozing to do . \" \\r\\ngloria runs 1 : 48 . \\r\\nit is rated r for profanity , violence and brief male nudity and would be acceptable for teenagers . \\r\\n')\n",
      "Pandas(Index=2, label='pos', review='this has been an extraordinary year for australian films . \\r\\n \" shine \" has just scooped the pool at the australian film institute awards , picking up best film , best actor , best director etc . to that we can add the gritty \" life \" ( the anguish , courage and friendship of a group of male prisoners in the hiv-positive section of a jail ) and \" love and other catastrophes \" ( a low budget gem about straight and gay love on and near a university campus ) . \\r\\ni can\\'t recall a year in which such a rich and varied celluloid library was unleashed from australia . \\r\\n \" shine \" was one bookend . \\r\\nstand by for the other one : \" dead heart \" . \\r\\n>from the opening credits the theme of division is established . \\r\\nthe cast credits have clear and distinct lines separating their first and last names . \\r\\nbryan | brown . \\r\\nin a desert settlement , hundreds of kilometres from the nearest town , there is an uneasy calm between the local aboriginals and the handful of white settlers who live nearby . \\r\\nthe local police officer has the task of enforcing \" white man\\'s justice \" to the aboriginals . \\r\\nthese are people with a proud 40 , 000 year heritage behind them . \\r\\nnaturally , this includes their own system of justice ; key to which is \" payback \" . \\r\\nan eye for an eye . \\r\\nrevenge . \\r\\nusually extracted by the spearing through of the recipient\\'s thigh . \\r\\nbrown , as the officer , manages quite well to keep the balance . \\r\\nhe admits that he has to \\'bend the rules\\' a bit , including actively encouraging at least one brutal \" payback \" . \\r\\n ( be warned that this scene , near the start , is not for the squeamish ) . \\r\\nthe local priest - an aboriginal , but in the \" white fellas \" church - has a foot on either side of the line . \\r\\nhe is , figuratively and literally , in both camps . \\r\\nernie dingo brings a great deal of understanding to this role as the man in the middle . \\r\\nhe is part churchman and part politician . \\r\\nhowever the tension , like the heat , flies and dust , is always there . \\r\\nwhilst her husband - the local teacher - is in church , white lady kate ( milliken ) and her aborginal friend tony , ( pedersen ) have gone off into the hills . \\r\\nhe takes her to a sacred site , even today strictly men-only . \\r\\nshe appears to not know this . \\r\\ntony tells her that this is a special place , an initiation place . \\r\\nhe then makes love to her , surrounded by ancient rock art . \\r\\nthe community finds out about this sacrilegious act and it\\'s payback time . \\r\\nthe fuse is lit and the brittle inter-racial peace is shattered . \\r\\neveryone is affected in the fall out . \\r\\nto say more is to give away the details of this finely crafted film . \\r\\nsuffice to say it\\'s a rewarding experience . \\r\\nbryan brown , acting and co-producing , is the pivotal character . \\r\\nhis officer is real , human and therefore flawed . \\r\\nbrown comments that he expects audiences to feel warmth towards the man , then suddenly feel angry about him . \\r\\nit wasn\\'t long ago that i visited central australia - ayers rock ( uluru ) and alice springs - for the first time . \\r\\nthe wide-screen cinematography shows the dead heart of australia in a way that captures it\\'s vicious beauty , but never deteriorates into a moving slide show , in which the gorgeous background dominates those pesky actors in the foreground . \\r\\nthe cultural clash has provided the thesis for many a film ; from the western to the birdcage . \\r\\nat least three excellent australian films have covered the aboriginal people and the line between them and we anglo-saxon \\'invaders\\' : \" jedda \" , \" the chant of jimmie blacksmith \" and \" the last wave \" . \\r\\nin a year when the race \\'debate\\' has reared up in australia , it is nourishing to see such an intelligent , non-judgemental film as \" dead heart \" . \\r\\nthe aboriginal priest best sums this up . \\r\\nhe is asked to say if he is a \" black fella or white fella \" . \\r\\n')\n",
      "Pandas(Index=3, label='pos', review='according to hollywood movies made in last few decades , life in small town is one of the worst things that could happen to a human being . \\r\\neven worse fate awaits those who were unfortunate to grow up in those dark , god-forsaken places and later forced to live forever traumatised by the experience . \\r\\non the other hand , it seems that something more than atlantic ocean divides europe from america , because one of the most popular and beloved european films takes exactly the opposite view . \\r\\nthis film is amarcord , 1974 comedy by famous italian director federico fellini , which later gave inspiration to numerous imitations and homages , and even led few american screen artists to adopt its heretical views about benefits of small town life . \\r\\nthe film is based on the screenplay by fellini and tonino guerra and it lacks the plot in usual sense . \\r\\ninstead we follow one year in 1930s italian summer resort town of rimini through the series of short vignettes that depict various local events and customs , as well as series of local , often very colourful characters . \\r\\nalthough many of those characters occasionally take the role of narrator , movie concentrates on its nominal protagonist , 14-year old boy titta ( played by bruno zanin ) and chronicles his sexual frustrations , obsession with local beauty queen named gradisca ( played by magali noel ) , problems in his lovingly dysfunctional family , as well as troubles his father ( played by armando brancia ) have with mussolini\\'s fascist regime . \\r\\namarcord was often noted as the ultimate nostalgia film , and it probably explains why it is very popular , even among those people who actually don\\'t like federico fellini\\'s work very much . \\r\\nevery member of its potential audience would find part of himself or herself in this film , because fellini in this film clearly illustrates natural human desire to paint past in the best way possible . \\r\\ndistortion between actual past and its subjective interpretation could be found even in the title of the film - word \" amarcord \" is nothing more than badly pronounced phrase \" i remember \" in local italian dialect . \\r\\nin the same way the word is distorted , so is the past in memories of those who remember it . \\r\\nafter the premiere , fellini rejected any claims about autobiographical character of this film , but it doesn\\'t matter whether rimini of amarcord actually resembles rimini of fellini\\'s childhood or not ; any place and any time could resemble characters and situations of this film . \\r\\nfellini\\'s views on nostalgia are clearly illustrated with a way he mixes reality and fantasy in this film . \\r\\neven the most naturalistic scenes are laced with dark humour and grotesque images . \\r\\ncharacters look like caricatures , actors playing them often deliberately overact , and women , especially those who fuel titta\\'s sexual fantasies , often have certain body parts with gargantuan proportions . \\r\\nevery now and then , scenes that depict 1930s reality gradually slide into fantasies of movie\\'s characters and rimini becomes almost indistinguishable from the magical place in characters\\' visions . \\r\\nbecause of that , almost everything in this film looks different , and in most cases better , than it would have looked in the real life . \\r\\neven the fascism gets fellinian make-over - fellini views mussolini\\'s totalitarian regime as nothing more than visual spectacle ( explaining why similar regimes enjoyed such popular support throughout history ) and opportunity for comedy . \\r\\nwhen fascists finally show their true colours and begin torturing their opponents , even this becomes opportunity for scenes of macabre humour . \\r\\nunlike many of his italian colleagues in 1970s , who had used 1930s period setting to explicitly condemn fascism and serve fashionable political agenda , fellini doesn\\'t care that much about politics . \\r\\nlack of self-righteous moral perspective is compensated with fellini\\'s humanistic approach to his characters . \\r\\neach of them , regardless of age , gender , social class or physical appearance , is given opportunity to express his or her views , dreams and fears . \\r\\nfellini treats all those characters with warmth and affection , even when he paints them as grotesque caricatures of real people . \\r\\nbecause of this warmth and democratic spirit , amarcord could be viewed as one of the most humane films of 20th century , and it keeps its general feel good atmosphere despite depicting having many uncomfortable , melancholic and even tragic moments . \\r\\nfellini couldn\\'t produce such effects without using his own directorial talent that gave a very personal touch to this movie . \\r\\nvignettes aren\\'t memorable because of the characters only ; fellini uses camera , painting film in bright colours , especially in the scenes that depict character\\'s fantasies . \\r\\nfellini also knows how to use locations , whether such location happens to be luxurious hotel , bright-coloured beach or rural countryside . \\r\\neven the down-to-earth streets of rimini , where everyone knows everyone , gets magical dimension during the snowfall . \\r\\non the other hand , lack of credible special effects somewhat diminished the same effect during the ocean liner scene . \\r\\nthis atmosphere is also provided by incredible talent of composer and fellini\\'s long-time associate nino rota . \\r\\nhis amarcord theme is probably one of the most recognisable , most popular and most relaxing and uplifting pieces of film music ever produced . \\r\\nthat music alone should be the reason to view amarcord as one of the indisputable classics of seventh art . \\r\\n')\n",
      "Pandas(Index=4, label='neg', review='my first press screening of 1998 and already i\\'ve gotten a prime candidate for my worst ten of the year list . \\r\\nwhat an auspicious beginning ! \\r\\nwelcome to the dog days of winter when the only film openings of merit are those oscar contenders that the studios opened in late december in new york and l . a . and which are just now beginning to appear elsewhere . \\r\\nfirestorm , the directorial debut of dances with wolves\\'s academy award winning cinematographer dean semler , is the first of the new year\\'s crop of movies . \\r\\nas our story opens , the movie pretentiously informs us that of the tens of thousands of firefighters only 400 are \" smokejumpers . \" \\r\\nwe then cut to a plane load of smoke jumping cowboys and one cowgirl , where one of the gung-ho guys is taking a romance quiz from \" cosmopolitan . \" \\r\\nhaving the time of their lives , they then jump into the middle of a burning forest . \\r\\nwhen , even in the beginning , the director can\\'t get the small parts right , you can sense the movie is in trouble . \\r\\nwith the noisy fire roaring all about them and with the trapped people huddled near their gasoline-filled cars , smokejumper monica ( christianne hirt ) tells them to get away from their soon-to-explode vehicles . \\r\\nnot bothering to shout nor even get close to them , she announces her warning without raising her voice much or approaching the people . \\r\\nmiraculously , they manage to hear her and move away . \\r\\nin a movie that specializes in cheap shots , the camera locates the proverbial young girl trapped in a nearby burning building . \\r\\nas it does throughout , overly dramatic cinematographer stephen f . windon from the postman uses extremely fast zooms right down to the endangered girl\\'s face . \\r\\nour show\\'s two heroes , the crew\\'s chief , wynt perkins , played laconically by scott glenn , and his second-in-command , jesse graves , played by howie long in a weak attempt to be the next steven seagal , enter the burning house looking for the little girl . \\r\\nin a panic they have difficulty in locating her before they are engulfed in flames . \\r\\nthe manipulative script has her hidden in her own dollhouse . \\r\\nthis mawkish show cuts back to monica , who has a life-or-death decision to make . \\r\\nthe chopper with the fire-retardant chemicals has only enough to save one group . \\r\\nwill it be the large group near the cars or the helpless little girl and monica\\'s two firefighting buddies ? \\r\\nshe has only seconds to decide who will be saved . \\r\\nyes , she goes for the majority , but , miracle of miracles , the other three come out alive anyway . \\r\\nnot content with a traditional firefighting story , chris soth\\'s screenplay attempts to jazz it up by having william forsythe from palookaville play a vicious killer named randy earl shaye who sets a forest fire so that he can join the crew to put it out and then escape . \\r\\n ( \" hoods in the woods , \" is what the \" ground-pounders \" yell out when the convicts are bused in to help them fight the fire . ) \\r\\nalong the way , shaye picks up an ornithologist hostage played by suzy amis , who turns out to have been trained in warrior ways by her father , who was a marine drill instructor . \\r\\nmost of the highly predictable movie is a long chase in which poor howie long is given one ridiculous stunt after another to look silly performing . \\r\\nhe flings a chain saw backwards over his head while riding a speeding motorcycle so that the saw can hit the windshield of the pursuing truck . \\r\\narguably the low point is when he escapes from a locked burning building by riding a motorcycle conveniently parked inside . \\r\\nusing a ramp , he shoots straight out of the top of the building\\'s attic , and when he hits the ground , he just rides off in a cloud of dust . \\r\\nwhen the film isn\\'t using some stock footage of actual forest fires , the simulated ones look hokey . \\r\\neditor jack hofstra cheapens the action even more by his use of burning flames in scene transitions . \\r\\nthe ending , with its sick twists , manages to be even worse than the rest of the movie . \\r\\nperhaps the best that can be said for the picture is the faint praise i heard afterwards in the lobby , \" it\\'s not as bad as some of the television sitcoms . \" \\r\\nfirestorm runs mercifully just 1 : 29 . \\r\\nit is rated r for violence and language and would be acceptable for teenagers . \\r\\n')\n",
      "Pandas(Index=5, label='neg', review='to put it bluntly , ed wood would have been proud of this . \\r\\na totally ridiculous plot is encompassed with bad humor , hokey drama , zero logic and a crap screenplay . \\r\\nalso , a beautifully anti-climactic ending . \\r\\nnot to say it didn\\'t look intriguing when i saw the previews . \\r\\nso much for truth in advertising . \\r\\nroland emmerich , who\\'s later \" independence day \" would look like \" the 400 blows \" compared to this , co-writed and directed this inane sci-fi film which uses the cliche of there being some connection between eqypt and aliens . \\r\\nin a useless opening sequence , men find a stone in 1914 with hieroglyphics on it . \\r\\nit wouldn\\'t be till present day ( \\'94 ) till they would actually figure it out . \\r\\nthey\\'re decipherer ? \\r\\na slightly-neurotic scientist ( nice twist ) , dr . dan jackson ( james spader , doing his best outside of erotic thrillers and some indy fare ) who\\'s life sucks so much that people walk out of his lectures after the third word . \\r\\nwhy do they use him to decipher what no one else could ? \\r\\nso there is a hokey ending ! \\r\\nduh ! \\r\\nhe figures it out in about a minute . \\r\\nyea . \\r\\nand then they get a suicidal colonel or something , \" jack \" o\\'neill ( kurt russel , with his wyat earp locks in the beginning then a flat-top that would make howie long snap into a fetal position ) . \\r\\nwhy a suicidal colonel ? \\r\\nfor the ending ! \\r\\nyou\\'ll get the hang of this . \\r\\nthey open the stargate , a bunch of them go through it with a bomb to blow it up if they find anything bad . \\r\\nafter an overdone special effects thing , they\\'re . . . inside a goddam pyramid . \\r\\nso they went to egypt , right ? \\r\\nwrong . \\r\\nthey\\'re on another planet that was filmed in egypt . \\r\\nthey discover a cilvilization ruled by ra , the sun god ( the androginous jaye davidson , with a voice modifier to make him sound like barry white with asthma ) , and there are fights , explosions and a kiss between two people . \\r\\nyea . \\r\\nalso melodrama , stupidity , hokey scenes and a bizarre language . \\r\\nan anti-climactic ending ends with stupid lines ( \" say hello to king tut , asswhole ! \" \\r\\n- the quintessential line , lemme tell ya ) and some convenient pesudo-pseudo-pseudo-character development . \\r\\nby the end , you just wanna go home and watch , i don\\'t know , the \" outer limits \" or something . \\r\\nthe script\\'s terrible . \\r\\nthe special effects are okay , but nothing great . \\r\\nthe story\\'s so weak that it\\'s almost opaque . \\r\\nthe whole experience just isn\\'t worth it unless you\\'re so bored that you\\'d consider watching a \" full house \" marathon . . . or \\r\\nthis . \\r\\ni\\'d pick this , obviously , but still , it\\'s just not fun at all . \\r\\nand i can\\'t wait for it to premier on mst3k . \\r\\n')\n",
      "Pandas(Index=6, label='neg', review='synopsis : melissa , a mentally-disturbed woman who likes to smoke , seduces doug , a minor-league baseball player who likes to study anatomy , work on motorcycles , and make out with his girlfriend in a public library . \\r\\nwhen doug decides to stop seeing her , melissa maliciously takes revenge on those around him , including his girlfriend , his mother , and his cat . \\r\\ncomments : malicious , i suppose , is an acceptable moview for what it is : a cheap , b-movie thriller which rips off dozens and dozens of spurned-psycho-lover-who-wants-revenge films ( like fatal attraction , hand that rocks the cradle , etc . etc . ) that have come before it . \\r\\nmalicious , however , really doesn\\'t provide very many particularly suspenseful moments . \\r\\nthe plot starts off energetically enough , the main characters are introduced and the affair between doug and melissa begins and ends pretty early on in the film . \\r\\nit starts to drag , unfortunately , after this . \\r\\nmelissa will obviously try to take her revenge on doug ( as always seems to happen in movies like these ) , but she does so in unimaginative ways that have been done in other , better thrillers before . \\r\\nshe drugs someone . \\r\\nshe kills a family pet and leaves it in the girlfriend\\'s apartment . \\r\\nand , of course , she stalks , so we see a number of shots , which are supposed to be suspenseful , where she\\'s spying on doug and his girlfriend . \\r\\ni won\\'t reveal the ludicrous ending to this turkey , but i warn you that it\\'s both painfully obvious and a real yawner . \\r\\njohn vernon does a remarkably good job at playing the not-so-bright baseball jock who initially gets swept away by melissa ( one of the script\\'s faults is to try to pass off a character like this as a pre-med student ) . \\r\\nthe same cannot be said , though , for molly ringwald . \\r\\nat times , she can effectively pull off the obsessed lover routine , especially during her silent , i\\'m-going-to-stare-you-down scenes . \\r\\nat other times , however , she just seems somehow goofy and out of place . \\r\\nin one particular scene which i guess was supposed to be suspenseful , she screeches \" f--k you , you b-----d \" and throws a phone . \\r\\nshe delivers the line so ridiculously that one can\\'t help but laugh . \\r\\nmalicious certainly isn\\'t the worst thriller of its kind out in the video racks ( a number of really fat turkies in this genre are out there ) , but it isn\\'t all that good or original either . \\r\\nfeel free to treat this film maliciously , watch something else . \\r\\n')\n",
      "Pandas(Index=7, label='neg', review=\"tim robbins and martin lawernce team up in this road movie comedy . \\r\\nrobbins plays an exec who discovers his wife having sex with his boss . \\r\\nhe goes into depression , and drives around his neighbourhood until he arrives inside the usual 'ghetto' side of every american city . \\r\\nthere , lawernce attempts to steal his car , but to no avail , and is dragged along with robbin's on a trip to arizona . \\r\\nthere , they hold up a store , are mistaken for two other robbers ( just like in my cousin vinny ) and are chased by the police , and the other robbers . \\r\\nof course , there's gags along the way , usually from lawernce . \\r\\nalthough the film is midly funny , and quite watchable , there's something so horribly familiar about it all . \\r\\nthis film should really be called beverly hills midnight run there's lawernce with his wisecracking and heavy profanity , just like eddie murphy in beverly hills cop , and pratically the same idea as midnight run . \\r\\nit's full of all the road movie cliches , and even has a 'comedy' car chase , which just seemed so eighties . \\r\\neven the credit sequence seemed to be out of a steve martin , or chevy chase , eighties comedy . \\r\\nthere also isn't much chemistry between robbins and lawernce . \\r\\nin planes , trains and automobiles , there was real chemistry between steve martin and john candy . \\r\\nin nothing to lose , there is hardly chemistry at all . \\r\\ntowards the end the chemistry seems to work , but for the bulk of the film , there is hardly any , \\r\\nthe director directs the film in a workman like fashion , but gets the jokes across . \\r\\nand although there is no chemistry between the two leads , they give good performances on their own . \\r\\nlawerence gives a good eddie murphy performance , and robbin's is alright aswell . \\r\\nhowever , robbin's performance is nowhere near as good as the characters he played in jacob's ladder , and the player . \\r\\nin fact , if you want to see robbin's do comedy much better than in nothing to lose , i suggest you rent out the hudsucker proxy , where he is much funnier . \\r\\nnothing to lose does have some funny moments in it , however . \\r\\nthe humour isn't particulary sophisticated , but if you enojyed dumb & dumber , you might enjoy this . \\r\\nthe characters in arizona are funny , and there's also a good scene where robbin's asks a shopkeeper which 'threatening approach' was better , lawerences ( which consisted of lawerence threatening to shoot the shopkeeper's ass , and swearing a lot ) , or himselfs , ( which was speaking in a deep , scary voice ) but the gags are predictable , the lack of chemistry infurating , and the ending too far-fetched and 'perfect' \\r\\nnothing to lose then , is robbin's first 'bad' movie ( and hopefully his last ) , and suggests that odereick should twice before making another film . \\r\\nhe nearly ruined carrey's career with ace ventura : when nature calls , let's hope he hasn't ruined robbin's ( or even lawerence's ) with nothing to lose . \\r\\n\")\n",
      "Pandas(Index=8, label='neg', review='in \" gia \" , angelina jolie plays the titular character , the first so-called supermodel . \\r\\nand right there you have the biggest hurdle this movie had to overcome ( in my eyes , anyway ) . \\r\\ni just don\\'t see how the life of a model is worthy of a two hour film . \\r\\ndespite this , i kept an open mind when i began watching the movie . \\r\\nsadly , though , my fears were realized . \\r\\nit\\'s just not possible to make an interesting , full-length film about a person who spends their days wearing different clothes . \\r\\nthe movie follows the rise and fall of gia ( no last name ) , a tumultuous woman who doesn\\'t particularly enjoy the world of fashion . \\r\\nshe becomes famous more quickly than she can handle , and finds herself hooked on drugs and on a woman she cannot have . \\r\\nthe last hour of the film is just one scene after another of gia getting high , losing a job , and going into rehab . \\r\\nthis formula is repeated several times , and i really got tired of it . \\r\\nin general , i tend to dislike movies featuring heavy drug use . \\r\\nno because it offends me or anything like that ; it just bores me . \\r\\nquite frankly , i don\\'t see the appeal , so when a director shows me a point-of-view shot of a junkie , complete with tipsy camera angles and echoing voices , i am left somewhat unimpressed . \\r\\nthe first hour of the film , though , was actually quite engaging . \\r\\nwe see gia as she is discovered and moves to new york with her boyfriend . \\r\\nthese early scenes were interesting . \\r\\nwe\\'re shown the fashion world through a newcomers eyes , and it was a perspective i hadn\\'t seen before . \\r\\nthe movie begins to go downhill , however , once gia becomes an established model . \\r\\n>from that point , i lost all interest in the movie and was counting the minutes before it would end . \\r\\nit all seemed so excessive . \\r\\nfine , so gia had a drug problem , does this really need to dominate the film ? \\r\\ncouldn\\'t the same effect have been had with a five or ten minute montage of scenes featuring gia experimenting with drugs ? \\r\\nor perhaps this film is meant to be a warning to aspiring models not to get into the drug world . \\r\\nquite possibly , although since i have no desire to become a model , this warning is lost on me . \\r\\nas i stated at the beginning of this review , i simply don\\'t see how the life of a model is worthy of a feature-length motion picture . \\r\\nwhat do they do that warrants a movie ? \\r\\nstrut their stuff for thousands of dollars an hour ? \\r\\ni suppose the same could be said about making movies about baseball players , for example , but at least somebody like lou gehrig led an interesting life . \\r\\ngia did not . \\r\\nand by the end of the film , all i knew about gia for sure was that she hated modelling , was bi-sexual , and was heavily into drugs . \\r\\nnot exactly a meaningful contribution to society , as far as i\\'m concerned . \\r\\n')\n",
      "Pandas(Index=9, label='neg', review='in 1990 , the surprise success an unheralded little movie called ghost instantly rescued the moribund careers of its trio of above-the-title stars , patrick swayze , demi moore , and whoopi goldberg . \\r\\neight years later , moore and goldberg\\'s careers aren\\'t exactly thriving , but they have had their share of screen successes since ; the same can\\'t be said of swayze , who has just added yet another turkey to his resume with the aptly named black dog . \\r\\nforget the mortal kombat movies--this trucksploitation flick is the closest the movies has come to video games . \\r\\ngood truck driver jack crews ( swayze ) must drive a cargo of illegal firearms from atlanta to new jersey . \\r\\nalong the way , jack and his crew of three run into a number of obstacles--such as a highway weigh station , evil truckers , and deadly uzi-firing motorcyclists . \\r\\nevery so often , like at the end of a video game \" level \" or \" stage , \" the main baddie pops up : red ( meat loaf , fresh from the triumph of spice world ) , who wants to steal the cache of guns . \\r\\njust in case you forget his name or have trouble keeping track of who\\'s driving what , all of red\\'s vehicles , be it a pickup or a big rig , are painted--you guessed it--red . \\r\\ni could go into more of the plot specifics ( such as jack\\'s dream of having a nice home with his family , the past trauma that sent him to prison and cost him his trucking license , the fbi/atf crew tracking the cargo ) , but they are of little importance . \\r\\nall that matters to director kevin hooks and writers william mickelberry and dan vining are the obstacles jack confronts in his drive from point a to point b . but they fail at even this modest goal , for none of the highway chaos , as credibly staged as it is , is terribly interesting , let alone exciting . \\r\\nonce you\\'ve seen a couple of trucks bang against each other or a big rig explode the first time , you\\'ve seen it every time . \\r\\nas dreary as black dog is as an entertainment , the saddest part about the film has nothing to do with what shows up onscreen ; it\\'s that swayze has to reduce himself to such work . \\r\\nwhile far from the best of actors , he is certainly not horrible , and he is a charismatic presence . \\r\\ni don\\'t know if it\\'s his judgment or the dearth of quality job offers that leads him to involve himself with bombs such as black dog . \\r\\nregardless , if he continues on this career track , could a tv series be far behind ? \\r\\n')\n"
     ]
    }
   ],
   "source": [
    "for t in df[:10].itertuples():\n",
    "  print(t)"
   ]
  },
  {
   "cell_type": "code",
   "execution_count": 16,
   "metadata": {},
   "outputs": [
    {
     "data": {
      "text/plain": [
       "1938"
      ]
     },
     "execution_count": 16,
     "metadata": {},
     "output_type": "execute_result"
    }
   ],
   "source": [
    "df.drop(blanks,inplace=True)\n",
    "len(df)"
   ]
  },
  {
   "cell_type": "markdown",
   "metadata": {},
   "source": [
    "## Taking a look at label column"
   ]
  },
  {
   "cell_type": "code",
   "execution_count": 17,
   "metadata": {},
   "outputs": [
    {
     "data": {
      "text/plain": [
       "neg    969\n",
       "pos    969\n",
       "Name: label, dtype: int64"
      ]
     },
     "execution_count": 17,
     "metadata": {},
     "output_type": "execute_result"
    }
   ],
   "source": [
    "df['label'].value_counts()"
   ]
  },
  {
   "cell_type": "markdown",
   "metadata": {},
   "source": [
    "## Split train and test datasets"
   ]
  },
  {
   "cell_type": "code",
   "execution_count": 19,
   "metadata": {},
   "outputs": [],
   "source": [
    "from sklearn.model_selection import train_test_split\n",
    "\n",
    "X = df['review']\n",
    "y=df['label']\n",
    "\n",
    "X_train, X_test, y_train, y_test = train_test_split(X,y,test_size=0.3,random_state=42)"
   ]
  },
  {
   "cell_type": "markdown",
   "metadata": {},
   "source": [
    "## Bulid a pipeline to vectorize the data and then train and fit into model"
   ]
  },
  {
   "cell_type": "code",
   "execution_count": 25,
   "metadata": {},
   "outputs": [],
   "source": [
    "from sklearn.pipeline import Pipeline\n",
    "from sklearn.feature_extraction.text import TfidfVectorizer\n",
    "from sklearn.naive_bayes import MultinomialNB\n",
    "from sklearn.svm import LinearSVC\n",
    "from sklearn.metrics import classification_report,confusion_matrix,accuracy_score"
   ]
  },
  {
   "cell_type": "code",
   "execution_count": 22,
   "metadata": {},
   "outputs": [],
   "source": [
    "'''apply vectorize\n",
    "clf = MultinomialNB()\n",
    "clf.fit'''\n",
    "\n",
    "# Naive Bayes\n",
    "NBClx = Pipeline([('tfidf',TfidfVectorizer()),\n",
    "                  ('clf',MultinomialNB())])\n",
    "\n",
    "# Linear SVC\n",
    "SVCClx = Pipeline([('tfidf',TfidfVectorizer()),\n",
    "                  ('clf',LinearSVC())])"
   ]
  },
  {
   "cell_type": "markdown",
   "metadata": {},
   "source": [
    "## Training the classifier"
   ]
  },
  {
   "cell_type": "code",
   "execution_count": 23,
   "metadata": {},
   "outputs": [
    {
     "data": {
      "text/plain": [
       "Pipeline(memory=None,\n",
       "         steps=[('tfidf',\n",
       "                 TfidfVectorizer(analyzer='word', binary=False,\n",
       "                                 decode_error='strict',\n",
       "                                 dtype=<class 'numpy.float64'>,\n",
       "                                 encoding='utf-8', input='content',\n",
       "                                 lowercase=True, max_df=1.0, max_features=None,\n",
       "                                 min_df=1, ngram_range=(1, 1), norm='l2',\n",
       "                                 preprocessor=None, smooth_idf=True,\n",
       "                                 stop_words=None, strip_accents=None,\n",
       "                                 sublinear_tf=False,\n",
       "                                 token_pattern='(?u)\\\\b\\\\w\\\\w+\\\\b',\n",
       "                                 tokenizer=None, use_idf=True,\n",
       "                                 vocabulary=None)),\n",
       "                ('clf',\n",
       "                 MultinomialNB(alpha=1.0, class_prior=None, fit_prior=True))],\n",
       "         verbose=False)"
      ]
     },
     "execution_count": 23,
     "metadata": {},
     "output_type": "execute_result"
    }
   ],
   "source": [
    "NBClx.fit(X_train, y_train)"
   ]
  },
  {
   "cell_type": "markdown",
   "metadata": {},
   "source": [
    "## Run predictions and analyse the results"
   ]
  },
  {
   "cell_type": "code",
   "execution_count": 38,
   "metadata": {},
   "outputs": [],
   "source": [
    "pred = NBClx.predict(X_test)"
   ]
  },
  {
   "cell_type": "code",
   "execution_count": 39,
   "metadata": {},
   "outputs": [
    {
     "name": "stdout",
     "output_type": "stream",
     "text": [
      "confusion matrix : \n",
      " [[259  23]\n",
      " [102 198]]\n"
     ]
    }
   ],
   "source": [
    "print('confusion matrix : \\n',confusion_matrix(y_test,pred))"
   ]
  },
  {
   "cell_type": "code",
   "execution_count": 40,
   "metadata": {},
   "outputs": [
    {
     "name": "stdout",
     "output_type": "stream",
     "text": [
      "classification report : \n",
      "               precision    recall  f1-score   support\n",
      "\n",
      "         neg       0.72      0.92      0.81       282\n",
      "         pos       0.90      0.66      0.76       300\n",
      "\n",
      "    accuracy                           0.79       582\n",
      "   macro avg       0.81      0.79      0.78       582\n",
      "weighted avg       0.81      0.79      0.78       582\n",
      "\n"
     ]
    }
   ],
   "source": [
    "print('classification report : \\n',classification_report(y_test,pred))"
   ]
  },
  {
   "cell_type": "code",
   "execution_count": 41,
   "metadata": {},
   "outputs": [
    {
     "name": "stdout",
     "output_type": "stream",
     "text": [
      "accuracy score : \n",
      " 0.7852233676975945\n"
     ]
    }
   ],
   "source": [
    "print('accuracy score : \\n',accuracy_score(y_test,pred))\n",
    "asc = accuracy_score(y_test,pred)"
   ]
  },
  {
   "cell_type": "markdown",
   "metadata": {},
   "source": [
    "## Looking at the SVC pipeline"
   ]
  },
  {
   "cell_type": "markdown",
   "metadata": {},
   "source": []
  },
  {
   "cell_type": "code",
   "execution_count": 42,
   "metadata": {},
   "outputs": [
    {
     "data": {
      "text/plain": [
       "Pipeline(memory=None,\n",
       "         steps=[('tfidf',\n",
       "                 TfidfVectorizer(analyzer='word', binary=False,\n",
       "                                 decode_error='strict',\n",
       "                                 dtype=<class 'numpy.float64'>,\n",
       "                                 encoding='utf-8', input='content',\n",
       "                                 lowercase=True, max_df=1.0, max_features=None,\n",
       "                                 min_df=1, ngram_range=(1, 1), norm='l2',\n",
       "                                 preprocessor=None, smooth_idf=True,\n",
       "                                 stop_words=None, strip_accents=None,\n",
       "                                 sublinear_tf=False,\n",
       "                                 token_pattern='(?u)\\\\b\\\\w\\\\w+\\\\b',\n",
       "                                 tokenizer=None, use_idf=True,\n",
       "                                 vocabulary=None)),\n",
       "                ('clf',\n",
       "                 LinearSVC(C=1.0, class_weight=None, dual=True,\n",
       "                           fit_intercept=True, intercept_scaling=1,\n",
       "                           loss='squared_hinge', max_iter=1000,\n",
       "                           multi_class='ovr', penalty='l2', random_state=None,\n",
       "                           tol=0.0001, verbose=0))],\n",
       "         verbose=False)"
      ]
     },
     "execution_count": 42,
     "metadata": {},
     "output_type": "execute_result"
    }
   ],
   "source": [
    "SVCClx.fit(X_train, y_train)"
   ]
  },
  {
   "cell_type": "code",
   "execution_count": 43,
   "metadata": {},
   "outputs": [],
   "source": [
    "pred = SVCClx.predict(X_test)"
   ]
  },
  {
   "cell_type": "code",
   "execution_count": 44,
   "metadata": {},
   "outputs": [
    {
     "name": "stdout",
     "output_type": "stream",
     "text": [
      "Confusion Matrix : \n",
      " [[235  47]\n",
      " [ 41 259]]\n"
     ]
    }
   ],
   "source": [
    "print('Confusion Matrix : \\n',confusion_matrix(y_test,pred))"
   ]
  },
  {
   "cell_type": "code",
   "execution_count": 45,
   "metadata": {},
   "outputs": [
    {
     "name": "stdout",
     "output_type": "stream",
     "text": [
      "accuracy score : \n",
      " 0.8487972508591065\n"
     ]
    }
   ],
   "source": [
    "print('accuracy score : \\n',accuracy_score(y_test,pred))\n",
    "asc2 = accuracy_score(y_test,pred)"
   ]
  },
  {
   "cell_type": "markdown",
   "metadata": {},
   "source": [
    "d = {'Multinomial NB':asc,'Linear SVC':asc2}\n",
    "df_acc = pd.DataFrame(d)m\n",
    "df_acc"
   ]
  },
  {
   "cell_type": "code",
   "execution_count": 47,
   "metadata": {},
   "outputs": [
    {
     "data": {
      "text/plain": [
       "'A movie I really wanted to see. But the storyline was terrible. I assume the producers had different intention but it was lacking coherence.'"
      ]
     },
     "execution_count": 47,
     "metadata": {},
     "output_type": "execute_result"
    }
   ],
   "source": [
    "myReview = \"A movie I really wanted to see. But the storyline was terrible. I assume the producers had different intention but it was lacking coherence.\"\n",
    "\n",
    "myReview"
   ]
  },
  {
   "cell_type": "code",
   "execution_count": 48,
   "metadata": {},
   "outputs": [
    {
     "name": "stdout",
     "output_type": "stream",
     "text": [
      "['neg']\n"
     ]
    }
   ],
   "source": [
    "print(NBClx.predict([myReview]))"
   ]
  },
  {
   "cell_type": "code",
   "execution_count": 49,
   "metadata": {},
   "outputs": [
    {
     "name": "stdout",
     "output_type": "stream",
     "text": [
      "['neg']\n"
     ]
    }
   ],
   "source": [
    "print(SVCClx.predict([myReview]))"
   ]
  },
  {
   "cell_type": "markdown",
   "metadata": {},
   "source": [
    "## Great Job !"
   ]
  }
 ],
 "metadata": {
  "kernelspec": {
   "display_name": "Python 3",
   "language": "python",
   "name": "python3"
  },
  "language_info": {
   "codemirror_mode": {
    "name": "ipython",
    "version": 3
   },
   "file_extension": ".py",
   "mimetype": "text/x-python",
   "name": "python",
   "nbconvert_exporter": "python",
   "pygments_lexer": "ipython3",
   "version": "3.7.4"
  }
 },
 "nbformat": 4,
 "nbformat_minor": 2
}
